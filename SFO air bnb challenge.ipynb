{
 "cells": [
  {
   "cell_type": "code",
   "execution_count": 1,
   "metadata": {},
   "outputs": [],
   "source": [
    "#What's the most expensive listing? What else can you tell me about the listing?\n",
    "##The most expensive listing is for $10,000. It's in the Western Addition neighborhood and is hosted by a woman named Sarah.\n",
    "\n",
    "\n",
    "SELECT * FROM sfo_listings\n",
    "ORDER BY price DESC\n",
    "LIMIT 10;"
   ]
  },
  {
   "cell_type": "code",
   "execution_count": null,
   "metadata": {},
   "outputs": [],
   "source": [
    "#What neighborhoods seem to be the most popular?\n",
    "SELECT \n",
    "\tneighbourhood,\n",
    "\tCOUNT (neighbourhood) as neighbourhood_ct\n",
    "\n",
    "FROM sfo_listings\n",
    "GROUP BY neighbourhood\n",
    "ORDER BY neighbourhood_ct DESC\n",
    "LIMIT 10;"
   ]
  },
  {
   "cell_type": "code",
   "execution_count": 1,
   "metadata": {},
   "outputs": [],
   "source": [
    "#What time of year is the cheapest time to go to San Francisco? \n",
    "SELECT DISTINCT calender_date, \n",
    " \tEXTRACT (MONTH FROM calender_date) AS MONTH,\n",
    "\tsfo_listings.price \n",
    "FROM sfo_calendar\n",
    "JOIN sfo_listings\n",
    "ON sfo_calendar.listing_id = sfo_listings.id\n",
    "WHERE sfo_listings.price IS NOT NULL\n",
    "LIMIT 100;\n"
   ]
  },
  {
   "cell_type": "code",
   "execution_count": null,
   "metadata": {},
   "outputs": [],
   "source": [
    "#What about the busiest?\n",
    "EXPLAIN SELECT calender_date, COUNT (available)\n",
    "FROM sfo_calendar \n",
    "WHERE available = 'f'\n",
    "GROUP BY calender_date\n",
    "ORDER BY count DESC\n",
    "LIMIT 10;"
   ]
  }
 ],
 "metadata": {
  "kernelspec": {
   "display_name": "Python 3",
   "language": "python",
   "name": "python3"
  },
  "language_info": {
   "codemirror_mode": {
    "name": "ipython",
    "version": 3
   },
   "file_extension": ".py",
   "mimetype": "text/x-python",
   "name": "python",
   "nbconvert_exporter": "python",
   "pygments_lexer": "ipython3",
   "version": "3.7.1"
  }
 },
 "nbformat": 4,
 "nbformat_minor": 2
}
